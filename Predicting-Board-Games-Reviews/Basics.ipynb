{
 "cells": [
  {
   "cell_type": "markdown",
   "metadata": {
    "collapsed": true
   },
   "source": [
    "\n",
    "A board game is a tabletop game that involves counters or pieces moved or placed on a pre-marked surface or \"board\", according to a set of rules. Some games are based on pure strategy, but many contain an element of chance; and some are purely chance, with no element of skill.\n",
    "A popular site where these types of board games are discussed and reviewed is [BoardGameGeek](https://www.boardgamegeek.com/).\n",
    "\n",
    "In this project, I apply machine learning to predict average_rating using the other columns such as playing-time, minimum recommended age, number of players etc. \n",
    "\n",
    "This data set contains 80000 board games and their associated review scores. The data was scraped from [BoardGameGeek](https://www.boardgamegeek.com/) and compiled into CSV format by [Sean Beck](https://github.com/ThaWeatherman). The data set is stored in board_games.csv, and can be downloaded here.\n",
    "\n",
    "Here are some of the interesting columns:\n",
    "\n",
    "- name: name of the board game.\n",
    "- playingtime: the playing time (given by the manufacturer).\n",
    "- minplaytime: the minimum playing time (given by the manufacturer).\n",
    "- maxplaytime: the maximum playing time (given by the manufacturer).\n",
    "- minage: the minimum recommended age to play.\n",
    "- users_rated: the number of users who rated the game.\n",
    "- average_rating: the average rating given to the game by users. (0-10)\n",
    "- total_weights: Number of weights given by users. Read more about what BoardGameGeek considers weights here.\n",
    "- average_weight: the average of all the subjective weights (0-5).\n",
    "\n",
    "\n",
    "[Download the dataset here](https://www.boardgamegeek.com/)\n",
    "\n",
    "[View the project on DataQuest](https://www.dataquest.io/course/machine-learning-beginner)\n",
    "\n",
    "\n",
    "This project had the following parts:\n",
    "\n",
    "* [Data-set Introduction](#data-set-introduction)\n",
    "* [Feature Engineering](#feature-engineering)\n",
    "* [KMeans Clustering](#kmeans-clustering)\n",
    "* [Model Training and Making Prediction](#training-a-model-and-making-predictions)\n"
   ]
  },
  {
   "cell_type": "markdown",
   "metadata": {},
   "source": [
    "## Data-set Introduction\n",
    "\n",
    "After we have familiarized with the data, we do the data cleaning. We then look into the distribution of average ratings by generating plots and calculating summary statistics in the following steps.\n",
    "\n",
    "1. Clean the data\n",
    "2. Generate a histogram of the average ratings.\n",
    "3. Generate a box and whisker plot of the average ratings.\n",
    "4. Calculate the standard deviation and the mean."
   ]
  },
  {
   "cell_type": "code",
   "execution_count": 28,
   "metadata": {
    "collapsed": false
   },
   "outputs": [
    {
     "name": "stdout",
     "output_type": "stream",
     "text": [
      "(81312, 20)\n"
     ]
    },
    {
     "data": {
      "text/html": [
       "<div>\n",
       "<table border=\"1\" class=\"dataframe\">\n",
       "  <thead>\n",
       "    <tr style=\"text-align: right;\">\n",
       "      <th></th>\n",
       "      <th>id</th>\n",
       "      <th>type</th>\n",
       "      <th>name</th>\n",
       "      <th>yearpublished</th>\n",
       "      <th>minplayers</th>\n",
       "      <th>maxplayers</th>\n",
       "      <th>playingtime</th>\n",
       "      <th>minplaytime</th>\n",
       "      <th>maxplaytime</th>\n",
       "      <th>minage</th>\n",
       "      <th>users_rated</th>\n",
       "      <th>average_rating</th>\n",
       "      <th>bayes_average_rating</th>\n",
       "      <th>total_owners</th>\n",
       "      <th>total_traders</th>\n",
       "      <th>total_wanters</th>\n",
       "      <th>total_wishers</th>\n",
       "      <th>total_comments</th>\n",
       "      <th>total_weights</th>\n",
       "      <th>average_weight</th>\n",
       "    </tr>\n",
       "  </thead>\n",
       "  <tbody>\n",
       "    <tr>\n",
       "      <th>0</th>\n",
       "      <td>12333</td>\n",
       "      <td>boardgame</td>\n",
       "      <td>Twilight Struggle</td>\n",
       "      <td>2005.0</td>\n",
       "      <td>2.0</td>\n",
       "      <td>2.0</td>\n",
       "      <td>180.0</td>\n",
       "      <td>180.0</td>\n",
       "      <td>180.0</td>\n",
       "      <td>13.0</td>\n",
       "      <td>20113</td>\n",
       "      <td>8.33774</td>\n",
       "      <td>8.22186</td>\n",
       "      <td>26647</td>\n",
       "      <td>372</td>\n",
       "      <td>1219</td>\n",
       "      <td>5865</td>\n",
       "      <td>5347</td>\n",
       "      <td>2562</td>\n",
       "      <td>3.4785</td>\n",
       "    </tr>\n",
       "    <tr>\n",
       "      <th>1</th>\n",
       "      <td>120677</td>\n",
       "      <td>boardgame</td>\n",
       "      <td>Terra Mystica</td>\n",
       "      <td>2012.0</td>\n",
       "      <td>2.0</td>\n",
       "      <td>5.0</td>\n",
       "      <td>150.0</td>\n",
       "      <td>60.0</td>\n",
       "      <td>150.0</td>\n",
       "      <td>12.0</td>\n",
       "      <td>14383</td>\n",
       "      <td>8.28798</td>\n",
       "      <td>8.14232</td>\n",
       "      <td>16519</td>\n",
       "      <td>132</td>\n",
       "      <td>1586</td>\n",
       "      <td>6277</td>\n",
       "      <td>2526</td>\n",
       "      <td>1423</td>\n",
       "      <td>3.8939</td>\n",
       "    </tr>\n",
       "  </tbody>\n",
       "</table>\n",
       "</div>"
      ],
      "text/plain": [
       "       id       type               name  yearpublished  minplayers  \\\n",
       "0   12333  boardgame  Twilight Struggle         2005.0         2.0   \n",
       "1  120677  boardgame      Terra Mystica         2012.0         2.0   \n",
       "\n",
       "   maxplayers  playingtime  minplaytime  maxplaytime  minage  users_rated  \\\n",
       "0         2.0        180.0        180.0        180.0    13.0        20113   \n",
       "1         5.0        150.0         60.0        150.0    12.0        14383   \n",
       "\n",
       "   average_rating  bayes_average_rating  total_owners  total_traders  \\\n",
       "0         8.33774               8.22186         26647            372   \n",
       "1         8.28798               8.14232         16519            132   \n",
       "\n",
       "   total_wanters  total_wishers  total_comments  total_weights  average_weight  \n",
       "0           1219           5865            5347           2562          3.4785  \n",
       "1           1586           6277            2526           1423          3.8939  "
      ]
     },
     "execution_count": 28,
     "metadata": {},
     "output_type": "execute_result"
    }
   ],
   "source": [
    "# import modules\n",
    "import pandas as pd\n",
    "import numpy as np\n",
    "%matplotlib inline\n",
    "import matplotlib.pyplot as plt\n",
    "%matplotlib inline \n",
    "plt.style.use('ggplot')\n",
    "plt.rcParams.update({'font.size': 16})\n",
    "\n",
    "# read data\n",
    "board_games = pd.read_csv(\"board_games.csv\")\n",
    "\n",
    "print(board_games.shape)\n",
    "board_games.head(2)"
   ]
  },
  {
   "cell_type": "code",
   "execution_count": 29,
   "metadata": {
    "collapsed": false
   },
   "outputs": [
    {
     "name": "stdout",
     "output_type": "stream",
     "text": [
      "(56894, 20)\n"
     ]
    }
   ],
   "source": [
    "# Remove rows containing missing values\n",
    "board_games = board_games.dropna(axis=0)\n",
    "\n",
    "# Remove any rows that have no reviews\n",
    "board_games = board_games[board_games[\"users_rated\"] > 0]\n",
    "\n",
    "print(board_games.shape)"
   ]
  },
  {
   "cell_type": "code",
   "execution_count": 30,
   "metadata": {
    "collapsed": false
   },
   "outputs": [
    {
     "name": "stdout",
     "output_type": "stream",
     "text": [
      "Mean =  6.016112849333889\n",
      "standard deviation =  1.5788299348332662\n"
     ]
    }
   ],
   "source": [
    "# Mean and standard Deviation\n",
    "mean_rating = board_games[\"average_rating\"].mean()\n",
    "std_rating = board_games[\"average_rating\"].std()\n",
    "print(\"Mean = \", mean_rating)\n",
    "print(\"standard deviation = \", std_rating)"
   ]
  },
  {
   "cell_type": "code",
   "execution_count": 38,
   "metadata": {
    "collapsed": false
   },
   "outputs": [
    {
     "data": {
      "image/png": "[encoded data removed]",
      "text/plain": [
       "<matplotlib.figure.Figure at 0x1156957b8>"
      ]
     },
     "metadata": {},
     "output_type": "display_data"
    }
   ],
   "source": [
    "import scipy.stats as stats\n",
    "h = sorted(board_games[\"average_rating\"])\n",
    "fit = stats.norm.pdf(h, mean_rating, std_rating)  #this is a fitting \n",
    "\n",
    "plt.plot(h,fit,'-')\n",
    "\n",
    "plt.hist(h,normed=True)      #use this to draw histogram of your data\n",
    "\n",
    "\n",
    "# plot histogram of average rating\n",
    "#plt.hist(board_games[\"average_rating\"])\n",
    "plt.ylabel('Frequency')\n",
    "plt.xlabel('average_rating')\n",
    "plt.xlim([0,10])\n",
    "plt.show()"
   ]
  },
  {
   "cell_type": "code",
   "execution_count": 39,
   "metadata": {
    "collapsed": false
   },
   "outputs": [
    {
     "data": {
      "image/png": "[encoded data removed]",
      "text/plain": [
       "<matplotlib.figure.Figure at 0x117704908>"
      ]
     },
     "metadata": {},
     "output_type": "display_data"
    }
   ],
   "source": [
    "plt.figure()\n",
    "plt.boxplot(board_games[\"average_rating\"], 0, 'rs', 0)\n",
    "plt.xlabel('average_rating')\n",
    "plt.show()"
   ]
  },
  {
   "cell_type": "markdown",
   "metadata": {},
   "source": [
    "## Feature Engineering\n",
    "\n",
    "Finding correlations will enable us to remove columns that don't add much predictive power to the model. For example, columns that are uncorrelated with the target won't help a linear regression model. It will also enable us to remove columns that are derived from the target, or otherwise cause overfitting. The steps below help us finding and analyzing correlations:\n",
    "\n",
    "1. Extract the numeric columns of board_games, and assign to the variable numeric_columns (Leave out name, type, and id.)\n",
    "\n",
    "2. Use the DataFrame.corr() method to compute pairwise correlations between only the numeric columns. Assign the result to correlations.\n",
    "\n",
    "3. Display the average_rating column of correlations, which shows how much the other columns correlate with the average_rating column.\n",
    "\n",
    "4. Remove any columns that seem to be derived from the average_rating. The bayes_average_rating is an example of this.\n",
    "\n",
    "5. Remove any columns that don't seem to correlate at all with the average_rating column."
   ]
  },
  {
   "cell_type": "code",
   "execution_count": 40,
   "metadata": {
    "collapsed": false,
    "scrolled": true
   },
   "outputs": [
    {
     "data": {
      "text/plain": [
       "yearpublished           0.108461\n",
       "minplayers             -0.032701\n",
       "maxplayers             -0.008335\n",
       "playingtime             0.048994\n",
       "minplaytime             0.043985\n",
       "maxplaytime             0.048994\n",
       "minage                  0.210049\n",
       "users_rated             0.112564\n",
       "average_rating          1.000000\n",
       "bayes_average_rating    0.231563\n",
       "total_owners            0.137478\n",
       "total_traders           0.119452\n",
       "total_wanters           0.196566\n",
       "total_wishers           0.171375\n",
       "total_comments          0.123714\n",
       "total_weights           0.109691\n",
       "average_weight          0.351081\n",
       "Name: average_rating, dtype: float64"
      ]
     },
     "execution_count": 40,
     "metadata": {},
     "output_type": "execute_result"
    }
   ],
   "source": [
    "# Retain only numeric data\n",
    "cols = list(board_games.columns)\n",
    "cols.remove(\"name\")\n",
    "cols.remove(\"id\")\n",
    "cols.remove(\"type\")\n",
    "\n",
    "numeric = board_games[cols]\n",
    "correlations = numeric.corr()\n",
    "correlations[\"average_rating\"]"
   ]
  },
  {
   "cell_type": "markdown",
   "metadata": {},
   "source": [
    "The yearpublished column is surprisingly highly correlated with average_rating, showing that more recent games tend to be rated more highly. Games for older players (minage is high) tend to be more highly rated. The more \"weighty\" a game is (average_weight is high), the more highly it tends to be rated."
   ]
  },
  {
   "cell_type": "code",
   "execution_count": 41,
   "metadata": {
    "collapsed": true
   },
   "outputs": [],
   "source": [
    "# Remove highly correlated columns\n",
    "\n",
    "cols.remove(\"bayes_average_rating\")\n",
    "\n",
    "# remove weights as they are not the feature of the games, but user given\n",
    "cols.remove(\"total_weights\")\n",
    "cols.remove(\"average_weight\")\n",
    "\n",
    "\n",
    "# Optional Add new features\n",
    "# player_range (maxplayers - minplayers)\n",
    "# playing_time_range (maxplaytime - minplaytime)"
   ]
  },
  {
   "cell_type": "markdown",
   "metadata": {
    "collapsed": true
   },
   "source": [
    "## KMeans Clustering\n",
    "\n",
    "We can first use the sklearn.cluster.KMeans class to fit a k-means clustering model. This class only works with numeric columns, so we have to extract the numeric columns of board_games before passing them into the KMeans.fit() method.\n",
    "\n",
    "1. Initialize the KMeans class with 3 clusters.\n",
    "2. Fit the KMeans class to numeric_columns using the fit method.\n",
    "3. Extract the labels_ attribute of the KMeans class, and assign to the variable labels.\n",
    "\n",
    "In this data set, using mean squared error as an error metric makes sense. This is because the data is continuous, and follows a somewhat normal distribution. We'll be able to compare our error to the standard deviation to see how good the model is at predictions."
   ]
  },
  {
   "cell_type": "code",
   "execution_count": 48,
   "metadata": {
    "collapsed": false
   },
   "outputs": [
    {
     "data": {
      "text/plain": [
       "KMeans(algorithm='auto', copy_x=True, init='k-means++', max_iter=300,\n",
       "    n_clusters=3, n_init=10, n_jobs=1, precompute_distances='auto',\n",
       "    random_state=None, tol=0.0001, verbose=0)"
      ]
     },
     "execution_count": 48,
     "metadata": {},
     "output_type": "execute_result"
    }
   ],
   "source": [
    "from sklearn.cluster import KMeans\n",
    "\n",
    "cols.remove(\"average_rating\")\n",
    "# Instantiate an instance of KMeans\n",
    "clus = KMeans(n_clusters=3)\n",
    "\n",
    "# Fit the data \n",
    "clus.fit(numeric)"
   ]
  },
  {
   "cell_type": "markdown",
   "metadata": {},
   "source": [
    "Plot out the cluster assignments.\n",
    "\n",
    "1. Use the apply method on numeric_columns with the keyword argument axis set to 1 to find the mean of each row. Assign the result to game_mean.\n",
    "\n",
    "2. Use the apply method on numeric_columns with the keyword argument axis set to 1 to find the standard deviation of each row. Assign the result to game_std.\n",
    "\n",
    "3. Create a plot using the matplotlib scatter function, with the c keyword argument set to labels, the keyword argument x set to game_mean, and the keyword argument y set to game_std."
   ]
  },
  {
   "cell_type": "code",
   "execution_count": 49,
   "metadata": {
    "collapsed": false
   },
   "outputs": [
    {
     "data": {
      "image/png": "[encoded data removed]",
      "text/plain": [
       "<matplotlib.figure.Figure at 0x1156b57b8>"
      ]
     },
     "metadata": {},
     "output_type": "display_data"
    }
   ],
   "source": [
    "# Mean and std. dev across each row\n",
    "game_mean = numeric.apply(np.mean, axis=1)\n",
    "game_std = numeric.apply(np.std, axis=1)\n",
    "\n",
    "# Obtain labels from the previous step clustering\n",
    "labels = clus.labels_\n",
    "\n",
    "#Plot the mean and std. dev according to the cluster color\n",
    "plt.scatter(x=game_mean, y=game_std, c=labels)\n",
    "plt.ylabel('Game Std. Deviation')\n",
    "plt.xlabel('Game Mean')\n",
    "plt.show()"
   ]
  },
  {
   "cell_type": "markdown",
   "metadata": {},
   "source": [
    "It looks like most of the games are similar, but as the game attributes tend to increase in value (such as number of users who rated), there are fewer high quality games. So most games don't get played much, but a few get a lot of players."
   ]
  },
  {
   "cell_type": "markdown",
   "metadata": {},
   "source": [
    "## Training a Model and Making Predictions\n",
    "\n",
    "Now that we're done exploring the data, we're ready to create a linear regression model and make predictions for newly created board games. Steps below:\n",
    "\n",
    "1. Initialize a LinearRegression model, and assign it to the variable reg.\n",
    "2. Use the LinearRegression.fit() method to set the predictor columns you want the model to use and set the target column to average_rating.\n",
    "3. Use the LinearRegression.predict() method to make predictions using the columns of board_games that should be used as predictors.\n",
    "    - The predictors you pass into LinearRegression.predict( ) should be the same predictors you passed into LinearRegression.fit.\n",
    "    - Assign the result to predictions."
   ]
  },
  {
   "cell_type": "code",
   "execution_count": 56,
   "metadata": {
    "collapsed": false
   },
   "outputs": [
    {
     "name": "stdout",
     "output_type": "stream",
     "text": [
      "length of X_train and x_test:  45515 11379\n"
     ]
    }
   ],
   "source": [
    "# Machine Learning\n",
    "from sklearn import cross_validation\n",
    "from sklearn.linear_model import LinearRegression\n",
    "\n",
    "# Cross validation (split into test and train data)\n",
    "# test_size = 0.2 ==> 20% data is test data\n",
    "X_train, X_test, y_train, y_test = cross_validation.train_test_split(board_games[cols], board_games[\"average_rating\"], test_size = 0.2)\n",
    "\n",
    "print('length of X_train and x_test: ', len(X_train), len(X_test))"
   ]
  },
  {
   "cell_type": "code",
   "execution_count": 57,
   "metadata": {
    "collapsed": false
   },
   "outputs": [
    {
     "name": "stdout",
     "output_type": "stream",
     "text": [
      "Accuracy of Linear Regression:  0.0912289797957\n"
     ]
    }
   ],
   "source": [
    "# Train\n",
    "clf = LinearRegression()\n",
    "clf.fit(X_train,y_train)\n",
    "\n",
    "# Predict\n",
    "accuracy = clf.score(X_test, y_test)\n",
    "print(\"Accuracy of Linear Regression: \", accuracy)"
   ]
  }
 ],
 "metadata": {
  "kernelspec": {
   "display_name": "Python 3",
   "language": "python",
   "name": "python3"
  },
  "language_info": {
   "codemirror_mode": {
    "name": "ipython",
    "version": 3
   },
   "file_extension": ".py",
   "mimetype": "text/x-python",
   "name": "python",
   "nbconvert_exporter": "python",
   "pygments_lexer": "ipython3",
   "version": "3.6.0"
  }
 },
 "nbformat": 4,
 "nbformat_minor": 0
}
